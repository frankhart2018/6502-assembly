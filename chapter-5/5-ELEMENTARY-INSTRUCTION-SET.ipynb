{
 "cells": [
  {
   "cell_type": "markdown",
   "metadata": {},
   "source": [
    "# Loading Registers from Memory\n",
    "\n",
    "- Moving data from memory to a register is called loading not register.\n",
    "<br><br>\n",
    "- Actually data is copied not moved, value at original location is not changed.\n",
    "\n",
    "## LDA (LoaD Accumulator)\n",
    "\n",
    "- Loads the accumulator with a byte of of data from a memory location specified by an operand.\n",
    "<br><br>\n",
    "- The operand can be in any of these addressing modes:- immediate, direct, zero-page direct, indexed direct (using either X or Y register), zero-page indexed direct (using X index register), pre-indexed direct, post-indexed indirect.\n",
    "\n",
    "## LDX (LoaD X) and LDY (LoaD Y)\n",
    "\n",
    "- Data can be loaded to X or Y register using LDX and LDY respectively.\n",
    "<br><br>\n",
    "- Both of these require an operand that specifies where to find the byte to be loaded into the register.\n",
    "<br><br>\n",
    "- Supported addressing modes (for both LDX and LDY):- immediate, direct, zero-page direct, indexed direct, zero-page indexed direct.\n",
    "<br><br>\n",
    "- With LDX Y can be used for indexing, with LDY we can use X.\n",
    "<br><br>\n",
    "- Neither LDX nor LDY can use operands with indirect, pre-indexed, post-indexed indirect, relative addressing.\n",
    "\n",
    "## LDA, LDX, LDY\n",
    "\n",
    "- LDA, LDX, and LDY affect the zero and sign status flags. This means that if byte moved has a value of zero, the zero flag will be set otherwise it will be cleared. The sign flag reflects the high-order bit of the byte moved.\n",
    "<br><br>\n",
    "- If we use signed data, a one in the sign flag indicates a negative value and a zero indicates a positive value."
   ]
  },
  {
   "cell_type": "markdown",
   "metadata": {},
   "source": [
    "# Storing Data in Memory\n",
    "\n",
    "- A byte of data can be copied from accumulator, X, or Y register into a memory location, this is called storing data in memory.\n",
    "<br><br>\n",
    "- The opcodes used are STA (STore Accumulator), STX (STore X), and STY (STore Y).\n",
    "<br><br>\n",
    "- These operations do not affect any status flags.\n",
    "<br><br>\n",
    "- All of them require an operand to specify the location where the byte of data is to be stored.\n",
    "<br><br>\n",
    "- Direct and zero-page direct operands can be used with all of these.\n",
    "<br><br>\n",
    "- Another addressing mode that can be used with STX and STY is zero-page indexed direct.\n",
    "<br><br>\n",
    "- STA can use both indexed direct and zero-page indexed direct addresses but only with X register.\n",
    "<br><br>\n",
    "- STA can also use pre-indexed and post-indexed indirect addresses.\n",
    "\n",
    "## Moving from one location to another\n",
    "\n",
    "- In 6502 there is no instruction to move from one memory location to another, this can be achieved in two steps:-\n",
    "\n",
    "```assembly\n",
    "LDA FIRST\n",
    "STA SECOND\n",
    "```\n",
    "\n",
    "## Question\n",
    "\n",
    "- Code a routine using the X register to move a byte of data from SECOND to THIRD then use the Y register to go from THIRD to HOME.\n",
    "\n",
    "```assembly\n",
    "LDX SECOND\n",
    "STX THIRD\n",
    "LDY THIRD\n",
    "STY HOME\n",
    "```"
   ]
  },
  {
   "cell_type": "markdown",
   "metadata": {},
   "source": [
    "# Transferring data between Registers\n",
    "\n",
    "- Data can be moved from accumulator to X or Y and vice versa. This process is called transferring data between registers.\n",
    "<br><br>\n",
    "- The operations used are:-\n",
    "<br><br>\n",
    "    - TAX (Transfer Accumulator to X)\n",
    "<br><br>\n",
    "    - TAY (Transfer Accumulator to Y)\n",
    "<br><br>\n",
    "    - TXA (Transfer X to Accumulator)\n",
    "<br><br>\n",
    "    - TYA (Transfe Y to Accumulator)\n",
    "<br><br>\n",
    "- These operations don't need operands.\n",
    "<br><br>\n",
    "- There is no instruction to transfer directly from X to Y.\n",
    "<br><br>\n",
    "- Just as load instructions transfer instructions affect zero and sign status flags."
   ]
  },
  {
   "cell_type": "code",
   "execution_count": null,
   "metadata": {},
   "outputs": [],
   "source": []
  }
 ],
 "metadata": {
  "kernelspec": {
   "display_name": "Python 3",
   "language": "python",
   "name": "python3"
  },
  "language_info": {
   "codemirror_mode": {
    "name": "ipython",
    "version": 3
   },
   "file_extension": ".py",
   "mimetype": "text/x-python",
   "name": "python",
   "nbconvert_exporter": "python",
   "pygments_lexer": "ipython3",
   "version": "3.8.3"
  }
 },
 "nbformat": 4,
 "nbformat_minor": 4
}
