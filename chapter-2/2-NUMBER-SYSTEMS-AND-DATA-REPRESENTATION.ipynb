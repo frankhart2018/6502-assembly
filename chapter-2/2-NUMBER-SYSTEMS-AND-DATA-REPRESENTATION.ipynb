{
 "cells": [
  {
   "cell_type": "markdown",
   "metadata": {},
   "source": [
    "# Hexadecimal Number System\n",
    "\n",
    "- Used in memory addresses, 4 binary digits can be expressed as a single hexadecimal digit, so using hexadecimal saves a lot of space.\n",
    "<br><br>\n",
    "- Internally these are converted to binary, very easily.\n",
    "<br><br>\n",
    "- In 6502 assembly a binary number should be preceded with % and hexadecimal number by \\$, a decimal number has no prefix.\n",
    "<br><br>\n",
    "- A 6502 memory address is of 2 bytes (16 bits) - can be expressed in 4 hex digits.\n",
    "<br><br>\n",
    "- The first memory address is \\$0000."
   ]
  },
  {
   "cell_type": "markdown",
   "metadata": {},
   "source": [
    "# ASCII Code\n",
    "\n",
    "- The ASCII code uses 7 out of the 8 bits, and keeps the 8th bit set as 0.\n",
    "<br><br>\n",
    "- Apple used this 8th bit as I/O indicator.\n",
    "<br><br>\n",
    "- Pet used to indicate an alternative character set using the 8th character.\n",
    "<br><br>\n",
    "- Atari used it to reverse the colors displayed on the terminal.\n",
    "<br><br>\n",
    "- Codes from \\\\$00 till \\\\$1F and \\\\$7F are special codes that control the action of the output device, although these are recommended codes, terminals may use different characters.\n",
    "<br><br>\n",
    "- All unrecognized codes are ignored or printed as blanks.\n",
    "<br><br>\n",
    "- When using ASCII values in assembly language we can use their character by enclosing them inside single quotes, e.g. LDA #'T' (this will load the constant character T to the accumulator).\n",
    "<br><br>\n",
    "- The ASCII control codes cannot be called directly in quotes. We have to use the hexadecial code for that."
   ]
  }
 ],
 "metadata": {
  "kernelspec": {
   "display_name": "Python 3",
   "language": "python",
   "name": "python3"
  },
  "language_info": {
   "codemirror_mode": {
    "name": "ipython",
    "version": 3
   },
   "file_extension": ".py",
   "mimetype": "text/x-python",
   "name": "python",
   "nbconvert_exporter": "python",
   "pygments_lexer": "ipython3",
   "version": "3.7.4"
  }
 },
 "nbformat": 4,
 "nbformat_minor": 4
}
