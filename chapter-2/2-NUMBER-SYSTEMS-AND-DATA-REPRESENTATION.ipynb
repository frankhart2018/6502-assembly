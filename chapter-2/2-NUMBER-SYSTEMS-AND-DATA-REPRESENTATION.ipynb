{
 "cells": [
  {
   "cell_type": "markdown",
   "metadata": {},
   "source": [
    "# Hexadecimal Number System\n",
    "\n",
    "- Used in memory addresses, 4 binary digits can be expressed as a single hexadecimal digit, so using hexadecimal saves a lot of space.\n",
    "<br><br>\n",
    "- Internally these are converted to binary, very easily.\n",
    "<br><br>\n",
    "- In 6502 assembly a binary number should be preceded with % and hexadecimal number by \\$, a decimal number has no prefix.\n",
    "<br><br>\n",
    "- A 6502 memory address is of 2 bytes (16 bits) - can be expressed in 4 hex digits.\n",
    "<br><br>\n",
    "- The first memory address is \\$0000."
   ]
  }
 ],
 "metadata": {
  "kernelspec": {
   "display_name": "Python 3",
   "language": "python",
   "name": "python3"
  },
  "language_info": {
   "codemirror_mode": {
    "name": "ipython",
    "version": 3
   },
   "file_extension": ".py",
   "mimetype": "text/x-python",
   "name": "python",
   "nbconvert_exporter": "python",
   "pygments_lexer": "ipython3",
   "version": "3.8.3"
  }
 },
 "nbformat": 4,
 "nbformat_minor": 4
}
