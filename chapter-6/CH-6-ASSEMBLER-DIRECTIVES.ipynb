{
 "cells": [
  {
   "cell_type": "markdown",
   "metadata": {},
   "source": [
    "# Assembler Directives\n",
    "\n",
    "- The set of instructions that control the assembler program rather than the computer itself are called assembler directives.\n",
    "<br><br>\n",
    "- These are not standardized."
   ]
  },
  {
   "cell_type": "markdown",
   "metadata": {},
   "source": [
    "# 6502 Machine Language\n",
    "\n",
    "- The machine language is represented using hexadecimal numbers.\n",
    "<br><br>\n",
    "- A machine language instruction can be composed of one, two or three bytes.\n",
    "<br><br>\n",
    "- The first byte is always the opcode.\n",
    "<br><br>\n",
    "- Some machine code instructions have only one byte as they have only opcodes and no operands.\n",
    "<br><br>\n",
    "- Instructions with direct, indexed direct or indirect operands get translated into three byte machine instructions - first byte is the opcode, the second and third byte contain the address specified in the operand (since addresses in 6502 are 2 bytes long).\n",
    "<br><br>\n",
    "- The LSB of address goes into second byte and MSB goes into third byte.\n",
    "<br><br>\n",
    "- E.g:- LDA \\\\$0555 gets translated into - AC 55 05, where \\\\$AC is the opecode and 55 is LSB of address, 05 is MSB of address.\n",
    "<br><br>\n",
    "- Instructions with immediate, zero-page and relative addresses get translated into two-byte instructions - the first byte contains opcode, the second byte contains the operand. All pre-indexed and post-indexed indirect operands are zero page addresses.\n",
    "<br><br>\n",
    "- The machine code is loaded into memory for execution sequentially."
   ]
  },
  {
   "cell_type": "markdown",
   "metadata": {},
   "source": [
    "# Code for assembler directive\n",
    "\n",
    "<img src=\"images/assembler-listing.png\">\n",
    "\n",
    "- The first line is an assembler directive and does not get stored in memory.\n",
    "<br><br>\n",
    "- This line tells the processor to start loading the next instructions at address \\\\$8000. The code will be loaded into main storage sequentially until another ORG directive is found or last byte of code is loaded.\n",
    "<br><br>\n",
    "- The instruction address is the location of first byte of an operation which is the opcode always."
   ]
  },
  {
   "cell_type": "markdown",
   "metadata": {},
   "source": [
    "# How code runs?\n",
    "\n",
    "- When the execution starts the microprocessor goes to memory location pointed by the ORG assembler directive. It then figures out number of bytes from opcode and then stores address of next instruction in PC. Then the execution starts.\n",
    "<br><br>\n",
    "- Instructions are executed sequentially until a jump or branch is encountered.\n",
    "<br><br>\n",
    "- A jump or branch causes the value at PC to be changed thus breaking the sequential order of execution.\n",
    "<br><br>\n",
    "- We give symbolic addresses to JMP so that we don't have to count the bytes from starting of the code. The assembler then translates this label into an address."
   ]
  },
  {
   "cell_type": "markdown",
   "metadata": {},
   "source": [
    "# How does assembler handle labels?\n",
    "\n",
    "- The assembler takes two passes through the program - on the first pass it determines the addresses of each instruction and builds a table of labels (symbol table), and on the second pass it translates the instructions into machine code."
   ]
  }
 ],
 "metadata": {
  "kernelspec": {
   "display_name": "Python 3",
   "language": "python",
   "name": "python3"
  },
  "language_info": {
   "codemirror_mode": {
    "name": "ipython",
    "version": 3
   },
   "file_extension": ".py",
   "mimetype": "text/x-python",
   "name": "python",
   "nbconvert_exporter": "python",
   "pygments_lexer": "ipython3",
   "version": "3.7.4"
  }
 },
 "nbformat": 4,
 "nbformat_minor": 2
}
