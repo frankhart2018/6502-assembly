{
 "cells": [
  {
   "cell_type": "markdown",
   "metadata": {},
   "source": [
    "# General Instruction Format\n",
    "\n",
    "- Assembly language instruction can have up to four parts:-\n",
    "<br><br>\n",
    "    - The label gives the instruction a name that we can refer to from other instructions.\n",
    "<br><br>\n",
    "    - The operation tells the computer what to do.\n",
    "<br><br>\n",
    "    - The operand identifies the data or other program address to be used in the operation.\n",
    "<br><br>\n",
    "    - Any instruction may have a narrative comment at the end.\n",
    "    \n",
    "- Comments in 6502 assembly start with ;."
   ]
  },
  {
   "cell_type": "markdown",
   "metadata": {},
   "source": [
    "# The Label Field\n",
    "\n",
    "- A label gives a name to an instruction. This can then be used as an operand in other instructions.\n",
    "<br><br>\n",
    "- The two major ways to use labels are:-\n",
    "<br><br>\n",
    "    - Jump or branch instructions.\n",
    "<br><br>\n",
    "    - Assign names to data storage areas in programs.\n",
    "<br><br>\n",
    "- Rules to name labels:-\n",
    "<br><br>\n",
    "    - A label must be one to six characters long\n",
    "<br><br>\n",
    "    - It can contain alphabets (A-Z) or digits (0-9). No special characters.\n",
    "<br><br>\n",
    "    - It must start with a letter.\n",
    "<br><br>\n",
    "    - It must start in column 1.\n",
    "<br><br>\n",
    "    - The following cannot be used as labels:-\n",
    "<br><br>\n",
    "        - Register names (A, X, Y).\n",
    "<br><br>\n",
    "        - 6502 operation codes (JMP, STA, etc)."
   ]
  },
  {
   "cell_type": "markdown",
   "metadata": {},
   "source": [
    "# The Operation Field\n",
    "\n",
    "- It tells the computer what to do.\n",
    "<br><br>\n",
    "- Some operations are:-\n",
    "<br><br>\n",
    "    - LDA - LoaD data into Accumulator\n",
    "<br><br>\n",
    "    - ADC - ADd with Carry\n",
    "<br><br>\n",
    "    - CMP - CoMPare to accumulator\n",
    "<br><br>\n",
    "    - BEQ - Branch if EQual\n",
    "<br><br>\n",
    "    - JMP - JuMP\n",
    "<br><br>\n",
    "    - STA - STore data from Accumulator\n",
    "<br><br>\n",
    "- Every opcode contains three letters. The operation is not optional, every instruction must have an operation.\n",
    "<br><br>\n",
    "- Atleast one space should be given after operation and operand, same goes for labels and operation. If there is not label space should be given."
   ]
  },
  {
   "cell_type": "markdown",
   "metadata": {},
   "source": [
    "# The Comments Field\n",
    "\n",
    "- Comments are used to document the program."
   ]
  },
  {
   "cell_type": "markdown",
   "metadata": {},
   "source": [
    "# The Operands Field\n",
    "\n",
    "- The target of an operation, on which the operation is actually performed.\n",
    "<br><br>\n",
    "- Sometimes the operands may have two parts, e.g:- LDA \\$30, X.\n",
    "<br><br>\n",
    "- Some operations do not require an operand, e.g:- TAX (transfer the byte in register A to register X).\n",
    "<br><br>\n",
    "- Coding rules for operands:-\n",
    "<br><br>\n",
    "    - Operands must be separated from the operation code by atleast one space.\n",
    "<br><br>\n",
    "    - No spaces are permitted within the operands, except inside quotation marks."
   ]
  }
 ],
 "metadata": {
  "kernelspec": {
   "display_name": "Python 3",
   "language": "python",
   "name": "python3"
  },
  "language_info": {
   "codemirror_mode": {
    "name": "ipython",
    "version": 3
   },
   "file_extension": ".py",
   "mimetype": "text/x-python",
   "name": "python",
   "nbconvert_exporter": "python",
   "pygments_lexer": "ipython3",
   "version": "3.7.4"
  }
 },
 "nbformat": 4,
 "nbformat_minor": 2
}
