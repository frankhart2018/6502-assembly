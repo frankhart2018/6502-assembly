{
 "cells": [
  {
   "cell_type": "markdown",
   "metadata": {},
   "source": [
    "# Review of concepts\n",
    "\n",
    "- The stack is a LIFO (Last In First Out) storage area in memory used for temporary storage.\n",
    "<br><br>\n",
    "- The stack pointer register points to the position where the next item will be stored.\n",
    "<br><br>\n",
    "- The stack has a top and a bottom. The bottom is the highest memory address and the top is the lowest memory address. \n",
    "<br><br>\n",
    "- The stack must be on page one and usually starts at address \\\\$01FF and builds towards address \\\\$0100 as items are added to it.\n",
    "<br><br>\n",
    "- Since the stack is limited to page one it cannot store more than 256 bytes which is reserved in memory even when it isn't in use.\n",
    "<br><br>\n",
    "- JSR instruction uses stack too. \n",
    "<br><br>\n",
    "- Most systems automatically start stack pointer to \\\\$01FF but if it isn't it can be done using TXS (Transfer X to Stack pointer):-\n",
    "\n",
    "```assembly\n",
    "LDX #$FF\n",
    "TXS\n",
    "```\n",
    "\n",
    "- The system assumes the \\\\$01, so loading just \\\\$FF is fine.\n",
    "\n",
    "## Questions\n",
    "\n",
    "1) Suppose you want to use a stack starting at address \\\\$0199. Write instructions to load the SP correctly:-\n",
    "\n",
    "```assembly\n",
    "LDX #$99\n",
    "TXS\n",
    "```\n",
    "\n",
    "- It is usually not a good idea to use page one for anything other than the stack."
   ]
  },
  {
   "cell_type": "markdown",
   "metadata": {},
   "source": [
    "# The Push and Pull instructions\n",
    "\n",
    "- A byte is added to the stack using a push instruction.\n",
    "<br><br>\n",
    "- PHA copies the accumulator to stack.\n",
    "<br><br>\n",
    "- PHP copies the status register into the stack.\n",
    "<br><br>\n",
    "- Neither PHA nor PHP have any operands and they do not affect any flags. After the copy is made SP is decremented to point to new top of the stack.\n",
    "<br><br>\n",
    "- An item is retrieved from the stack by a pull instruction.\n",
    "<br><br>\n",
    "- PLA pulls a byte into the accumulator.\n",
    "<br><br>\n",
    "- PLP pulls a byte into the status register.\n",
    "<br><br>\n",
    "- They don't have any operands. They affect zero and sign flags.\n",
    "<br><br>\n",
    "- When an item is pulled the stack pointer is positioned in a way that the next push will overlay the current value.\n",
    "\n",
    "## Questions\n",
    "\n",
    "1) Write a routine that will stack the values of the X and Y registers, then call a subroutine named LOGON, then restore X and Y to their former values:-\n",
    "\n",
    "```assembly\n",
    "TXA\n",
    "PHA\n",
    "TYA\n",
    "PHA\n",
    "JSR LOGON\n",
    "PLA\n",
    "TAY\n",
    "PLA\n",
    "TAX\n",
    "```\n",
    "\n",
    "- Since X and Y cannot be stacked directly it is better to save them in some memory location. But registers are safer in the stack."
   ]
  },
  {
   "cell_type": "markdown",
   "metadata": {},
   "source": [
    "# The TSX instruction\n",
    "\n",
    "- TSX allows the value of SP to be copied to X register.\n",
    "<br><br>\n",
    "- This has no operands. This affects sign and zero flags.\n",
    "\n",
    "## Questions\n",
    "\n",
    "1) Write a routine to increment the SP by one. This will retrieve the SP to X increment it and replace it in SP:-\n",
    "\n",
    "```assembly\n",
    "TSX\n",
    "INX\n",
    "TXS\n",
    "```"
   ]
  }
 ],
 "metadata": {
  "kernelspec": {
   "display_name": "Python 3",
   "language": "python",
   "name": "python3"
  },
  "language_info": {
   "codemirror_mode": {
    "name": "ipython",
    "version": 3
   },
   "file_extension": ".py",
   "mimetype": "text/x-python",
   "name": "python",
   "nbconvert_exporter": "python",
   "pygments_lexer": "ipython3",
   "version": "3.8.3"
  }
 },
 "nbformat": 4,
 "nbformat_minor": 4
}
