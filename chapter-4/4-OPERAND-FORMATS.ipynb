{
 "cells": [
  {
   "cell_type": "markdown",
   "metadata": {},
   "source": [
    "# Some opcodes\n",
    "\n",
    "- ADC - ADd with carry (Adds a value from operand to value in accumulator).\n",
    "<br><br>\n",
    "- BEQ - Branch if EQual (Changes next instruction address in program counter if zero-flag is on).\n",
    "<br><br>\n",
    "- CMP - CoMPare (Compares value in accumulator to value in operand).\n",
    "<br><br>\n",
    "- JMP - JuMP (Changes next instruction address in program counter).\n",
    "<br><br>\n",
    "- LDA - LoaD Accumulator (Copies value from operand to accumulator).\n",
    "<br><br>\n",
    "- STA - STore Accumulator (Copies value in accumulator to operand)."
   ]
  },
  {
   "cell_type": "markdown",
   "metadata": {},
   "source": [
    "# Immediate addressing\n",
    "\n",
    "- When we code the value that will exactly be placed in some instruction then this is called immediate addressing. \n",
    "<br><br>\n",
    "- E.g:- #10 would be immediate address for the value 10, and the same in hexadecimal is #\\$0A.\n",
    "<br><br>\n",
    "- There is one (1) byte of data in this.\n",
    "<br><br>\n",
    "- Letters can be represented using single quotes, e.g: #'A'."
   ]
  },
  {
   "cell_type": "markdown",
   "metadata": {},
   "source": [
    "## Question\n",
    "\n",
    "- Set accumulator to zero, add 25 to the accumulator, and compare the result to 20.\n",
    "\n",
    "```assembly\n",
    "LDA #00\n",
    "ADC #25\n",
    "CMP #20\n",
    "```"
   ]
  },
  {
   "cell_type": "markdown",
   "metadata": {},
   "source": [
    "- This is useful when we want to load specific value to register.\n",
    "<br><br>\n",
    "- To use index register X in a loop:-\n",
    "\n",
    "```assembly\n",
    "LDA #0\n",
    "```\n",
    "\n",
    "- Another use of immediate addressing is to make comparisons:-\n",
    "\n",
    "```assembly\n",
    "CMP #$0D\n",
    "```"
   ]
  },
  {
   "cell_type": "markdown",
   "metadata": {},
   "source": [
    "# Direct Addressing \n",
    "\n",
    "- In direct addressing we just write the numeric value of address as the operand.\n",
    "<br><br>\n",
    "- To execute the next instruction at address \\$72FF:-\n",
    "\n",
    "```assembly\n",
    "JMP $72FF\n",
    "```"
   ]
  },
  {
   "cell_type": "markdown",
   "metadata": {},
   "source": [
    "# Zero-page Direct Addressing\n",
    "\n",
    "- In 6502 we should look at the 64K bytes of memory as if they were divided into 256 pages of 256 bytes each.\n",
    "<br><br>\n",
    "- The first 256 bytes with addresses from \\$0000 to \\$00FF are called zero page.\n",
    "<br><br>\n",
    "- The next 256 bytes are called page one.\n",
    "<br><br>\n",
    "- When coding a direct address in page zero, we don't have to write the first two 00s.\n",
    "<br><br>\n",
    "- E.g:- \\$30 represent address \\$0030 at page zero.\n",
    "<br><br>\n",
    "- A zero page address saves one byte of space in the length of the instruction.\n",
    "<br><br>\n",
    "- It can increase the speed of executing the instruction, so data that will be referenced often should be put here.\n",
    "<br><br>\n",
    "- A label is also direct addressing:-\n",
    "\n",
    "```assembly\n",
    "JMP OTLOOP\n",
    "```"
   ]
  },
  {
   "cell_type": "markdown",
   "metadata": {},
   "source": [
    "# Indexed Direct Addressing\n",
    "\n",
    "- In indexed direct addressing the value in one of the index (X or Y) registers is used, which is added to direct address which results in a direct address.\n",
    "<br><br>\n",
    "- This has two operands:-\n",
    "\n",
    "```assembly\n",
    "LDA $0218, X\n",
    "```\n",
    "\n",
    "- The above instruction will load the accumulator with the byte \\$021A if the value of X is \\$02."
   ]
  },
  {
   "cell_type": "markdown",
   "metadata": {},
   "source": [
    "# Zero-page Indexed Direct Addressing\n",
    "\n",
    "- When the direct address portion of an indexed direct address is on the zero page (between \\$0000 and \\$00FF).\n",
    "<br><br>\n",
    "- This like zero-page direct addressing saves one byte of space and is also faster.\n",
    "<br><br>\n",
    "- If the result of addition is greater than \\$FF in this type of addressing then the page number portion will be dropped and then value will still be located in zero page.\n",
    "<br><br>\n",
    "- Indexed addressing is generally used in loops where access of successive bytes of memory is required.\n",
    "\n",
    "## Code example\n",
    "\n",
    "```assembly\n",
    "        LDX #0         ; INITIALIZE X\n",
    "OTLOOP  LDA THANKS, X  ; MOVE NEXT LETTER INTO A\n",
    "        JSR OUTPUT     ; WRITE THE LETTER TO SCREEN\n",
    "        INX            ; ADD 1 TO X\n",
    "        CMP #'U'       ; IS IT THE LAST LETTER?\n",
    "        BNE OTLOOP     ; IF NOT, GO BACK AND GET THE NEXT LETTER\n",
    "```"
   ]
  },
  {
   "cell_type": "markdown",
   "metadata": {},
   "source": [
    "# Indirect Addressing\n",
    "\n",
    "- An indirect address points to a memory location where the actual address to be used in the instruction has been stored. \n",
    "<br><br>\n",
    "- E.g:- JMP (\\$1530)\n",
    "<br><br>\n",
    "- This is required when we need to change an operand at execution time.\n",
    "<br><br>\n",
    "- Instructions previously executed will stored which can vary depending on input data and other factors.\n",
    "<br><br>\n",
    "- Indirect operand is always enclosed in parantheses."
   ]
  },
  {
   "cell_type": "markdown",
   "metadata": {},
   "source": [
    "# Memory Address\n",
    "\n",
    "- An address is two bytes long, but each memory location can hold only one byte, so two consecutive memory locations are used to store an address.\n",
    "<br><br>\n",
    "- In 6502 assembly, addresses are stored with low-order byte, i.e. last two hexadecimal digits in the first location and the high-order byte in the following location.\n",
    "<br><br>\n",
    "- An indirect address points to the first location, the microprocessor automatically goes into the next byte to get to the rest of the address."
   ]
  },
  {
   "cell_type": "markdown",
   "metadata": {},
   "source": [
    "# Pre-indexed Indirect Addressing\n",
    "\n",
    "- It is a zero-page indexed direct address enclosed in parantheses, indicating the memory location where the address of the actual operand can be found.\n",
    "<br><br>\n",
    "- The actual index can refer to any index but the location it is stored in must be on zero page.\n",
    "<br><br>\n",
    "- Only X register can be used in this type of addressing.\n",
    "<br><br>\n",
    "- E.g:- (\\$26, X), (\\$30, X).\n",
    "<br><br>\n",
    "- The addressing mode will wrap around if necessary, so the resulting address is always on the zero page."
   ]
  },
  {
   "cell_type": "markdown",
   "metadata": {},
   "source": [
    "# Post-indexed Indirect Addressing\n",
    "\n",
    "- It uses an indirect address to point to a zero-page location, then adds the contents of the Y register to the address stored at that location resulting in the actual address used in the location.\n",
    "<br><br>\n",
    "- Only the Y register can be used in this addressing mode.\n",
    "<br><br>\n",
    "- The indirect address portion is enclosed inside parantheses, Y is not.\n",
    "<br><br>\n",
    "- E.g:- (\\$13), Y and (\\$02), Y."
   ]
  },
  {
   "cell_type": "markdown",
   "metadata": {},
   "source": [
    "# Relative Addressing\n",
    "\n",
    "- Used only with branching instructions. This is important as this is the only form of operand allowed in branching instructions.\n",
    "<br><br>\n",
    "- In machine language it is one-byte signed number indicating the number of bytes to branch forward or backward.\n",
    "<br><br>\n",
    "- A relative operand of \\$20 would mean to branch forward 32 bytes since \\$20 = 32 (in decimal).\n",
    "<br><br>\n",
    "- Because the machine language operand is limited to one byte, and the value is treated as a signed number, the maximum branches are +127 bytes and -128 bytes.\n",
    "<br><br>\n",
    "- In 6502 assembly relative addresses are not directly coded, these are coded using other addressing techniques.\n",
    "<br><br>\n",
    "- E.g:- Relative address may be coded using direct addressing. The assembler calculates the relative address by subtracting the current address from the operand address. The current address is the address that would be in the PC when the branch instruction is processed at execution time."
   ]
  },
  {
   "cell_type": "markdown",
   "metadata": {},
   "source": [
    "# Expressions as Operands\n",
    "\n",
    "- A valid expression can be used as operand."
   ]
  }
 ],
 "metadata": {
  "kernelspec": {
   "display_name": "Python 3",
   "language": "python",
   "name": "python3"
  },
  "language_info": {
   "codemirror_mode": {
    "name": "ipython",
    "version": 3
   },
   "file_extension": ".py",
   "mimetype": "text/x-python",
   "name": "python",
   "nbconvert_exporter": "python",
   "pygments_lexer": "ipython3",
   "version": "3.8.3"
  }
 },
 "nbformat": 4,
 "nbformat_minor": 4
}
