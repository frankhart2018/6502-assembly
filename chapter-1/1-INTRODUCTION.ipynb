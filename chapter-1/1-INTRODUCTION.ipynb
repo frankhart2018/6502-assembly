{
 "cells": [
  {
   "cell_type": "markdown",
   "metadata": {},
   "source": [
    "# Introduction\n",
    "\n",
    "- 6502 Assembly (or any other assembly language) is a <strong>low level</strong> language.\n",
    "<br><br>\n",
    "- Generally system programs are written in assembly language as they require much more speed."
   ]
  },
  {
   "cell_type": "markdown",
   "metadata": {},
   "source": [
    "# Bits and Bytes\n",
    "\n",
    "- A microprocessor is an <strong>integrated circuit</strong> inside the microcomputer that contains the logic that makes the rest of the computer work.\n",
    "<br><br>\n",
    "- The microprocessor contains control circuits and special storage areas called registers."
   ]
  },
  {
   "cell_type": "markdown",
   "metadata": {},
   "source": [
    "# Memory\n",
    "\n",
    "- Memory addresses in 6502 start from 0000 till ffff."
   ]
  },
  {
   "cell_type": "markdown",
   "metadata": {},
   "source": [
    "# Registers\n",
    "\n",
    "## General Purpose Registers (GPRs)\n",
    "\n",
    "- <strong>A</strong> - Accumulator can be used for addition and subtraction. To add two values, move first value to accumulator and add second value to it. It contains 1 byte.\n",
    "<br><br>\n",
    "- <strong>X and Y</strong> - 1 byte GPR. These are called index registers. Used while looping.\n",
    "\n",
    "<img src=\"images/index-registers.png\">\n",
    "\n",
    "## Special Purpose Registers \n",
    "\n",
    "- <strong>Stack Pointer (SP)</strong> - 1 byte register. Although 6502 has 2 bytes long addresses but stack lives in that part of memory where the adresses begin with 01, SP holds only the second byte of address and the first byte is assumed to be 01. E.g. if SP points to 25 the location is 0125.\n",
    "<br><br>\n",
    "- <strong>Program Counter (PC)</strong> - 2 byte register. Programmer can change value in PC using jump instructions.\n",
    "<br><br>\n",
    "- <strong>Status Register</strong> - Treated as 8 separate bits. 7 are used as flags. Type flags are listed as follows:-\n",
    "<br><br>\n",
    "    - <strong>Zero flag</strong> - Whether the result is zero or not.\n",
    "<br><br>\n",
    "    - <strong>Sign/Negative result flag</strong> - Reflects 8th bit of result, useful in signed numbers.\n",
    "<br><br>\n",
    "    - <strong>Carry flag</strong> - Carry or borrow of the result byte.\n",
    "<br><br>\n",
    "    - <strong>Overflow flag</strong> - Reflects 7th bit of the result. Like sign flag, this too is useful when dealing with signed numbers.\n",
    "<br><br>\n",
    "    - <strong>Interrupt disable flag</strong> - Tells microprocessor whether it's all right to process an interrupt immediately.\n",
    "<br><br>\n",
    "    - <strong>Break flag</strong> - Whether an interrupt is caused by an external event or by a program command.\n",
    "<br><br>\n",
    "    - <strong>Decimal flag</strong> - Tells microprocessor whether it is doing binary or decimal arithmetic.\n",
    "    \n",
    "<img src=\"images/data-flow.png\">"
   ]
  }
 ],
 "metadata": {
  "kernelspec": {
   "display_name": "Python 3",
   "language": "python",
   "name": "python3"
  },
  "language_info": {
   "codemirror_mode": {
    "name": "ipython",
    "version": 3
   },
   "file_extension": ".py",
   "mimetype": "text/x-python",
   "name": "python",
   "nbconvert_exporter": "python",
   "pygments_lexer": "ipython3",
   "version": "3.7.4"
  }
 },
 "nbformat": 4,
 "nbformat_minor": 2
}
