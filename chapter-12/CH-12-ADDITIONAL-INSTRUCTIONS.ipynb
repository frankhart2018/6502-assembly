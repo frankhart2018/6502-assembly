{
 "cells": [
  {
   "cell_type": "markdown",
   "metadata": {},
   "source": [
    "# The NOP instruction\n",
    "\n",
    "- NOP (NO Operation) does absolutely nothing active. It takes up one byte of memory space and uses up a litte a little bit of time."
   ]
  },
  {
   "cell_type": "markdown",
   "metadata": {},
   "source": [
    "# The SEI and CLI instructions\n",
    "\n",
    "- The 6502 processor has two types of interrups - masked and unmasked. \n",
    "<br><br>\n",
    "- Unmasked interrupts are always recognized and processed. \n",
    "<br><br>\n",
    "- The 6502 will only respond to a masked interrupt request if interrupts are enabled. This is done using the CLI instruction. \n",
    "<br><br>\n",
    "- CLI (CLear Interrupt) uses only the operation code, it has no operand. It clears the interrupt disable flag in the status register. When the flag is clear the system will respond to interrupts.\n",
    "<br><br>\n",
    "- Interrupts are disabled using SEI (SEt Interrupt) instruction. SEI also has no operand.\n",
    "<br><br>\n",
    "- Interrupt processing automatically disables interrupts. If we want to interrupt an intterupt then we have to put CLI instruction at the beginning in the interrupt service routine."
   ]
  },
  {
   "cell_type": "markdown",
   "metadata": {},
   "source": [
    "# The RTI instruction\n",
    "\n",
    "- An interrupt routine works similar to a subroutine - when it is called, the PC and the status register are pushed into the stack. \n",
    "<br><br>\n",
    "- The RTI (ReTurn from Interrupt) instruction causes a return to the interrupted program. The PC and status registers are pulled from the stack. Since the interrupt flag is in status register its old value will be restored."
   ]
  },
  {
   "cell_type": "markdown",
   "metadata": {},
   "source": [
    "# The BRK instruction\n",
    "\n",
    "- The BRK (BReaK) instruction causes an interrupt from your assembly language program. It sets the break flag.\n",
    "<br><br>\n",
    "- When coding the interrupt routine we can check the value of break flag to find out if the interrupt came from a BRK instruction or not.\n",
    "<br><br>\n",
    "- BRK in a way forces an interrupt."
   ]
  }
 ],
 "metadata": {
  "kernelspec": {
   "display_name": "Python 3",
   "language": "python",
   "name": "python3"
  },
  "language_info": {
   "codemirror_mode": {
    "name": "ipython",
    "version": 3
   },
   "file_extension": ".py",
   "mimetype": "text/x-python",
   "name": "python",
   "nbconvert_exporter": "python",
   "pygments_lexer": "ipython3",
   "version": "3.7.4"
  }
 },
 "nbformat": 4,
 "nbformat_minor": 2
}
